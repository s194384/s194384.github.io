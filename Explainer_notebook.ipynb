{
 "cells": [
  {
   "cell_type": "markdown",
   "id": "3f64e9da",
   "metadata": {},
   "source": [
    "# Motivation\n",
    "\n",
    "I have chosen two datasets for this project. They can both be downloaded from [the city of Melbourne opendata](https://data.melbourne.vic.gov.au/). The data comes from different kind of sensors located at Argyle Square, which is a small park located in Melbourne Australia. \n",
    "\n",
    "One dataset is the [blix-visits](https://data.melbourne.vic.gov.au/explore/dataset/blix-visits/information/?sort=datetime) which is a [pedestrian sensor](https://hdp-au-prod-app-com-participate-files.s3.ap-southeast-2.amazonaws.com/9616/5180/4859/Data_in_the_park_Argyle_Square_map.pdf?utm_source=chatgpt.com) and counts WiFi devices in a range of 30m radius from its location. \n",
    "The other is the [benches usage data](https://data.melbourne.vic.gov.au/explore/dataset/guppy/information/?disjunctive.dev_id). There are two benches located at the park which are provided each with two [bench movement sensors](https://hdp-au-prod-app-com-participate-files.s3.ap-southeast-2.amazonaws.com/9616/5180/4859/Data_in_the_park_Argyle_Square_map.pdf?utm_source=chatgpt.com) which detects when people sit on the bench. These sensors also measure the temperature when the bench is at use. \n",
    "\n",
    "I choose to work with these two datasets because they acquire some very specific data about people behavior at a park. The two datasets would also work well together since I could explore not only how many people are at the park but also how many uses the park to hang out in. I also found it very interesting to figure out why there was so much data for this specific small park. I found out the park was chosen to be a [smart park](https://participate.melbourne.vic.gov.au/emerging-tech-testbed/data-park) and there are actually a lot more data and sensors to explore in this small park.\n",
    "\n",
    "My goal for the end user’s experience is to have found the data explored interesting. I hope to draw peoples attention to this small culture park in Melbourne. It would be awesome if one thought “Wow, I didn’t know observations pattens from such a small place could tell so much about the people using the park”. I also hope the interactive plot invites the reader to explore further and maybe discover other pattens in the data which hasn’t been mentioned.\n"
   ]
  },
  {
   "cell_type": "markdown",
   "id": "9a2b2ac7",
   "metadata": {},
   "source": [
    "# Basic stats"
   ]
  },
  {
   "cell_type": "markdown",
   "id": "da3235bb",
   "metadata": {},
   "source": [
    "Firstly, I choose to work on the two datasets separately. The codes can be found in the folder [My final project codes](https://github.com/s194384/s194384.github.io/tree/main/My%20final%20project%20codes) under the names *blix-visits.ipynb* and *Benches.ipynb*. Then after the cleaning and preprocessing were done I made some plots combining the cleaned datasets which can be found [in the same folder](https://github.com/s194384/s194384.github.io/tree/main/My%20final%20project%20codes) under the name *Combined.ipynb*\n",
    "\n",
    "For convinience I have also copied the relevant code from the different files into this explainer notebook"
   ]
  },
  {
   "cell_type": "markdown",
   "id": "127186e5",
   "metadata": {},
   "source": [
    "### Blix-visits basic stats"
   ]
  },
  {
   "cell_type": "markdown",
   "id": "27aa3152",
   "metadata": {},
   "source": [
    "After importing all the different packages used I imported the data and displayed the total number of rows, columns and a header to better understand the dataset."
   ]
  },
  {
   "cell_type": "code",
   "execution_count": 1,
   "id": "383b2f37",
   "metadata": {},
   "outputs": [
    {
     "name": "stdout",
     "output_type": "stream",
     "text": [
      "Total number of rows: 122758\n",
      "Total number of columns: 8\n"
     ]
    },
    {
     "data": {
      "text/html": [
       "<div>\n",
       "<style scoped>\n",
       "    .dataframe tbody tr th:only-of-type {\n",
       "        vertical-align: middle;\n",
       "    }\n",
       "\n",
       "    .dataframe tbody tr th {\n",
       "        vertical-align: top;\n",
       "    }\n",
       "\n",
       "    .dataframe thead th {\n",
       "        text-align: right;\n",
       "    }\n",
       "</style>\n",
       "<table border=\"1\" class=\"dataframe\">\n",
       "  <thead>\n",
       "    <tr style=\"text-align: right;\">\n",
       "      <th></th>\n",
       "      <th>datetime</th>\n",
       "      <th>venueId</th>\n",
       "      <th>total</th>\n",
       "      <th>dwell</th>\n",
       "      <th>Sensor Name</th>\n",
       "      <th>Sensor Type</th>\n",
       "      <th>Lat Long</th>\n",
       "      <th>avg_dwell</th>\n",
       "    </tr>\n",
       "  </thead>\n",
       "  <tbody>\n",
       "    <tr>\n",
       "      <th>0</th>\n",
       "      <td>2022-12-16T13:00:00+11:00</td>\n",
       "      <td>7779</td>\n",
       "      <td>217</td>\n",
       "      <td>52297</td>\n",
       "      <td>Pedestrian Sensor- Harbur Esp</td>\n",
       "      <td>Mobile phone counting</td>\n",
       "      <td>-37.8144123, 144.9443643</td>\n",
       "      <td>4.0</td>\n",
       "    </tr>\n",
       "    <tr>\n",
       "      <th>1</th>\n",
       "      <td>2022-12-16T13:00:00+11:00</td>\n",
       "      <td>8171</td>\n",
       "      <td>48</td>\n",
       "      <td>9840</td>\n",
       "      <td>Pedestrian Sensor-Birrarung Marr</td>\n",
       "      <td>Mobile phone counting</td>\n",
       "      <td>-37.8209898, 144.9759397</td>\n",
       "      <td>3.0</td>\n",
       "    </tr>\n",
       "    <tr>\n",
       "      <th>2</th>\n",
       "      <td>2022-12-16T05:00:00+11:00</td>\n",
       "      <td>8171</td>\n",
       "      <td>6</td>\n",
       "      <td>1800</td>\n",
       "      <td>Pedestrian Sensor-Birrarung Marr</td>\n",
       "      <td>Mobile phone counting</td>\n",
       "      <td>-37.8209898, 144.9759397</td>\n",
       "      <td>5.0</td>\n",
       "    </tr>\n",
       "    <tr>\n",
       "      <th>3</th>\n",
       "      <td>2022-12-16T16:00:00+11:00</td>\n",
       "      <td>8171</td>\n",
       "      <td>95</td>\n",
       "      <td>52155</td>\n",
       "      <td>Pedestrian Sensor-Birrarung Marr</td>\n",
       "      <td>Mobile phone counting</td>\n",
       "      <td>-37.8209898, 144.9759397</td>\n",
       "      <td>9.0</td>\n",
       "    </tr>\n",
       "    <tr>\n",
       "      <th>4</th>\n",
       "      <td>2022-12-16T07:00:00+11:00</td>\n",
       "      <td>8168</td>\n",
       "      <td>0</td>\n",
       "      <td>0</td>\n",
       "      <td>Pedestrian Sensor - Microlabs</td>\n",
       "      <td>Mobile phone counting</td>\n",
       "      <td>-37.8132759, 144.9670433</td>\n",
       "      <td>NaN</td>\n",
       "    </tr>\n",
       "  </tbody>\n",
       "</table>\n",
       "</div>"
      ],
      "text/plain": [
       "                    datetime  venueId  total  dwell  \\\n",
       "0  2022-12-16T13:00:00+11:00     7779    217  52297   \n",
       "1  2022-12-16T13:00:00+11:00     8171     48   9840   \n",
       "2  2022-12-16T05:00:00+11:00     8171      6   1800   \n",
       "3  2022-12-16T16:00:00+11:00     8171     95  52155   \n",
       "4  2022-12-16T07:00:00+11:00     8168      0      0   \n",
       "\n",
       "                        Sensor Name            Sensor Type  \\\n",
       "0     Pedestrian Sensor- Harbur Esp  Mobile phone counting   \n",
       "1  Pedestrian Sensor-Birrarung Marr  Mobile phone counting   \n",
       "2  Pedestrian Sensor-Birrarung Marr  Mobile phone counting   \n",
       "3  Pedestrian Sensor-Birrarung Marr  Mobile phone counting   \n",
       "4     Pedestrian Sensor - Microlabs  Mobile phone counting   \n",
       "\n",
       "                   Lat Long  avg_dwell  \n",
       "0  -37.8144123, 144.9443643        4.0  \n",
       "1  -37.8209898, 144.9759397        3.0  \n",
       "2  -37.8209898, 144.9759397        5.0  \n",
       "3  -37.8209898, 144.9759397        9.0  \n",
       "4  -37.8132759, 144.9670433        NaN  "
      ]
     },
     "execution_count": 1,
     "metadata": {},
     "output_type": "execute_result"
    }
   ],
   "source": [
    "import pandas as pd #To import data\n",
    "\n",
    "# For heat map\n",
    "import folium\n",
    "from folium.plugins import HeatMap, HeatMapWithTime\n",
    "\n",
    "# Calenderplot\n",
    "import calplot\n",
    "\n",
    "# Plots\n",
    "import numpy as np # used for polar plot\n",
    "import matplotlib.pyplot as plt\n",
    "import matplotlib.colors as mcolors # Creating color bar\n",
    "\n",
    "# Box plot\n",
    "import seaborn as sns\n",
    "\n",
    "# Specify the full path to the CSV file\n",
    "file_path = r\"C:\\Users\\Bruger\\Documents\\s194384.github.io\\My final project codes\\blix-visits.csv\"\n",
    "\n",
    "# Read data from the specified file\n",
    "df = pd.read_csv(file_path)\n",
    "\n",
    "# Counts rows and columns\n",
    "print(f\"Total number of rows: {df.shape[0]}\")\n",
    "print(f\"Total number of columns: {df.shape[1]}\")\n",
    "\n",
    "# Preview the first 5 lines of the loaded data\n",
    "df.head()"
   ]
  },
  {
   "cell_type": "markdown",
   "id": "b1452fdd",
   "metadata": {},
   "source": [
    "I quickly discovered"
   ]
  },
  {
   "cell_type": "markdown",
   "id": "45b8300a",
   "metadata": {},
   "source": [
    "# Data Analysis"
   ]
  },
  {
   "cell_type": "markdown",
   "id": "ee513f90",
   "metadata": {},
   "source": [
    "# Genre\n",
    "\n",
    "The magazine style was chosen for the website. This way the reader is guided through the story which is being told from start to finish. A consistent visual platform was therefore used for the visual structure to emphasize the guidance for the reader. \n",
    "\n",
    "A close-up and zooming were used as tools for highlighting. The close-up was used on figure 4 for visual narrative so the reader more clearly could notice a difference in visitors across the days of the week.\n",
    "\n",
    "Transition guidance wasn’t really used for this data story telling with is quite commend for the magazine style genre. \n",
    "\n",
    "A linear ordering was used for the narrative structure which again corresponds to the guidance of the reader. \n",
    "\n",
    "For interactivity hover highlighting/details and filtering/selection along with explicit instructions were tools used to engage in the story of the data.\n",
    "\n",
    "Furthermore, captions/headlines, introductory text and summary were used to give the message across to the reader. Especially an introduction was used to start the reader of and then a summary at the finish to sum up everything the reader had learned along the way. It corresponds well with the guidance of the reader."
   ]
  },
  {
   "cell_type": "markdown",
   "id": "148f486c",
   "metadata": {},
   "source": [
    "# Visualizaations"
   ]
  },
  {
   "cell_type": "markdown",
   "id": "ffa813a6",
   "metadata": {},
   "source": [
    "# Discussion"
   ]
  },
  {
   "cell_type": "markdown",
   "id": "ed56fb9c",
   "metadata": {},
   "source": [
    "# Contributions\n",
    "\n",
    "I (Marie S. M. Woods s194384) was the main responsible for the whole website, code and explainer notebook. There are no other group members. "
   ]
  }
 ],
 "metadata": {
  "kernelspec": {
   "display_name": "Python 3",
   "language": "python",
   "name": "python3"
  },
  "language_info": {
   "codemirror_mode": {
    "name": "ipython",
    "version": 3
   },
   "file_extension": ".py",
   "mimetype": "text/x-python",
   "name": "python",
   "nbconvert_exporter": "python",
   "pygments_lexer": "ipython3",
   "version": "3.10.1"
  }
 },
 "nbformat": 4,
 "nbformat_minor": 5
}
